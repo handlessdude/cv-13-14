{
 "cells": [
  {
   "cell_type": "code",
   "execution_count": 1,
   "id": "initial_id",
   "metadata": {
    "collapsed": true,
    "ExecuteTime": {
     "end_time": "2023-12-27T21:24:06.889785006Z",
     "start_time": "2023-12-27T21:17:58.597528216Z"
    }
   },
   "outputs": [
    {
     "name": "stderr",
     "output_type": "stream",
     "text": [
      "100%|██████████| 4800/4800 [06:04<00:00, 13.17it/s]\n"
     ]
    }
   ],
   "source": [
    "import numpy as np\n",
    "import pandas as pd\n",
    "import glob\n",
    "import tqdm\n",
    "import pickle\n",
    "from sklearn.neighbors import NearestNeighbors\n",
    "import torch\n",
    "import clip\n",
    "from PIL import Image\n",
    "\n",
    "\n",
    "TRAIN_SET_PATH = './train/*.jpg'\n",
    "DB_SET_PATH = './db/*'\n",
    "DESCRIPTORS_LIMIT = int(2e5)\n",
    "N_NEIGHBOURS = 5\n",
    "\n",
    "\n",
    "KNN_MODEL_PATH = 'knn_dump_14.sav'\n",
    "DB_PATH = 'db_14.csv'\n",
    "\n",
    "\n",
    "device = \"cuda\" if torch.cuda.is_available() else \"cpu\"\n",
    "model, preprocess = clip.load(\"ViT-B/32\", device=device)\n",
    "\n",
    "# def get_embedding(img_rgb: np.ndarray):\n",
    "#     image = preprocess(img_rgb).unsqueeze(0).to(device)\n",
    "#     with torch.no_grad():\n",
    "#         features = model.encode_image(image)\n",
    "#     return features[0].cpu().numpy()\n",
    "\n",
    "ids = []\n",
    "imgsPath = []\n",
    "embeddings = []\n",
    "with torch.no_grad():\n",
    "    for img_path in tqdm.tqdm(glob.glob(DB_SET_PATH)):\n",
    "        idx = img_path.split('/')[-1][0:12]\n",
    "        image = preprocess(Image.open(img_path).convert('RGB')).unsqueeze(0).to(device)\n",
    "        embedding = model.encode_image(image)\n",
    "        ids.append(idx)\n",
    "        imgsPath.append(img_path)\n",
    "        embeddings.append(embedding)\n",
    "\n",
    "embeddings = torch.cat(embeddings).cpu().numpy()"
   ]
  },
  {
   "cell_type": "code",
   "execution_count": 3,
   "outputs": [
    {
     "data": {
      "text/plain": "(4800, 512)"
     },
     "execution_count": 3,
     "metadata": {},
     "output_type": "execute_result"
    }
   ],
   "source": [
    "embeddings.shape"
   ],
   "metadata": {
    "collapsed": false,
    "ExecuteTime": {
     "end_time": "2023-12-27T21:24:15.345643900Z",
     "start_time": "2023-12-27T21:24:15.333133904Z"
    }
   },
   "id": "90a3f213b783c320"
  },
  {
   "cell_type": "code",
   "execution_count": 6,
   "outputs": [
    {
     "data": {
      "text/plain": "10197283"
     },
     "execution_count": 6,
     "metadata": {},
     "output_type": "execute_result"
    }
   ],
   "source": [
    "# сохраняем db в .csv\n",
    "db = pd.DataFrame(data={\n",
    "    'id': ids,\n",
    "    'img_path': imgsPath,\n",
    "    'embedding': list(embeddings),\n",
    "})\n",
    "open(DB_PATH, 'wb').write(pickle.dumps(db))"
   ],
   "metadata": {
    "collapsed": false,
    "ExecuteTime": {
     "end_time": "2023-12-27T21:26:31.935260200Z",
     "start_time": "2023-12-27T21:26:31.887291211Z"
    }
   },
   "id": "193d7917dac885b7"
  },
  {
   "cell_type": "code",
   "execution_count": 8,
   "outputs": [
    {
     "data": {
      "text/plain": "19661301"
     },
     "execution_count": 8,
     "metadata": {},
     "output_type": "execute_result"
    }
   ],
   "source": [
    "# сохраняем db в .csv\n",
    "X = np.empty(embeddings.shape)\n",
    "for i in range(len(db['embedding'])):\n",
    "    X[i] = np.array(db['embedding'][i], dtype='float').flatten()\n",
    "knn = NearestNeighbors(n_neighbors=N_NEIGHBOURS, metric='cosine', algorithm='brute', n_jobs=-1).fit(X)\n",
    "\n",
    "open(KNN_MODEL_PATH, 'wb').write(pickle.dumps(knn))"
   ],
   "metadata": {
    "collapsed": false,
    "ExecuteTime": {
     "end_time": "2023-12-27T21:28:33.679225922Z",
     "start_time": "2023-12-27T21:28:33.621096683Z"
    }
   },
   "id": "378b2ce6f1461069"
  }
 ],
 "metadata": {
  "kernelspec": {
   "display_name": "Python 3",
   "language": "python",
   "name": "python3"
  },
  "language_info": {
   "codemirror_mode": {
    "name": "ipython",
    "version": 2
   },
   "file_extension": ".py",
   "mimetype": "text/x-python",
   "name": "python",
   "nbconvert_exporter": "python",
   "pygments_lexer": "ipython2",
   "version": "2.7.6"
  }
 },
 "nbformat": 4,
 "nbformat_minor": 5
}
